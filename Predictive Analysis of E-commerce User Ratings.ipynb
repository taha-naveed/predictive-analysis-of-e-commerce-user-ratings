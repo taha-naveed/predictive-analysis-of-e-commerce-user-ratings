{
 "cells": [
  {
   "cell_type": "markdown",
   "id": "Z88FfJc9lA_T",
   "metadata": {
    "id": "Z88FfJc9lA_T"
   },
   "source": [
    "## Analysis of an E-commerce Dataset Part 2"
   ]
  },
  {
   "cell_type": "code",
   "execution_count": 1,
   "id": "637eb9d6",
   "metadata": {},
   "outputs": [],
   "source": [
    "student_name = \"Taha Naveed Shibli\"\n",
    "student_id = \"47892641\""
   ]
  },
  {
   "cell_type": "markdown",
   "id": "hoq0NwA9lA_V",
   "metadata": {
    "id": "hoq0NwA9lA_V"
   },
   "source": [
    "The goal of the second analysis task is to train linear regression models to predict users' ratings towards items. This involves a standard Data Science workflow: exploring data, building models, making predictions, and evaluating results. In this task, we will explore the impacts of feature selections and different sizes of training/testing data on the model performance. We will use another cleaned combined e-commerce sub-dataset that **is different from** the one in “Analysis of an E-commerce Dataset” task 1."
   ]
  },
  {
   "cell_type": "markdown",
   "id": "f9fd3NU_lA_W",
   "metadata": {
    "id": "f9fd3NU_lA_W"
   },
   "source": [
    "### Import Cleaned E-commerce Dataset\n",
    "The csv file named 'cleaned_ecommerce_dataset.csv' is provided. You may need to use the Pandas method, i.e., `read_csv`, for reading it. After that, please print out its total length."
   ]
  },
  {
   "cell_type": "code",
   "execution_count": 2,
   "id": "PJrb2gtAlA_W",
   "metadata": {
    "id": "PJrb2gtAlA_W"
   },
   "outputs": [
    {
     "name": "stdout",
     "output_type": "stream",
     "text": [
      "show the length of the dataframe: ecommerce_df\n",
      "2685\n"
     ]
    }
   ],
   "source": [
    "import pandas as pd\n",
    "import numpy as np\n",
    "import matplotlib.pyplot as plt\n",
    "import seaborn as sns\n",
    "%matplotlib inline\n",
    "\n",
    "ecommerce_ds = 'cleaned_ecommerce_dataset.csv'\n",
    "ecommerce_df = pd.read_csv(ecommerce_ds)\n",
    "print('show the length of the dataframe: ecommerce_df')\n",
    "print(len(ecommerce_df))"
   ]
  },
  {
   "cell_type": "markdown",
   "id": "aqbuU6rglA_X",
   "metadata": {
    "id": "aqbuU6rglA_X"
   },
   "source": [
    "### Explore the Dataset\n",
    "\n",
    "* Use the methods, i.e., `head()` and `info()`, to have a rough picture about the data, e.g., how many columns, and the data types of each column.\n",
    "* As our goal is to predict ratings given other columns, please get the correlations between helpfulness/gender/category/review and rating by using the `corr()` method.\n",
    "* To get the correlations between different features, you may need to first convert the categorical features (i.e., gender, category and review) into numerial values. For doing this, you may need to import `OrdinalEncoder` from `sklearn.preprocessing` (refer to the useful exmaples [here](https://pbpython.com/categorical-encoding.html))\n",
    "* Please provide ___necessary explanations/analysis___ on the correlations, and figure out which are the ___most___ and ___least___ corrleated features regarding rating. Try to ___discuss___ how the correlation will affect the final prediction results, if we use these features to train a regression model for rating prediction. In what follows, we will conduct experiments to verify your hypothesis."
   ]
  },
  {
   "cell_type": "code",
   "execution_count": 3,
   "id": "W3PImHiElA_X",
   "metadata": {
    "id": "W3PImHiElA_X"
   },
   "outputs": [
    {
     "data": {
      "text/html": [
       "<div>\n",
       "<style scoped>\n",
       "    .dataframe tbody tr th:only-of-type {\n",
       "        vertical-align: middle;\n",
       "    }\n",
       "\n",
       "    .dataframe tbody tr th {\n",
       "        vertical-align: top;\n",
       "    }\n",
       "\n",
       "    .dataframe thead th {\n",
       "        text-align: right;\n",
       "    }\n",
       "</style>\n",
       "<table border=\"1\" class=\"dataframe\">\n",
       "  <thead>\n",
       "    <tr style=\"text-align: right;\">\n",
       "      <th></th>\n",
       "      <th>userId</th>\n",
       "      <th>timestamp</th>\n",
       "      <th>review</th>\n",
       "      <th>item</th>\n",
       "      <th>rating</th>\n",
       "      <th>helpfulness</th>\n",
       "      <th>gender</th>\n",
       "      <th>category</th>\n",
       "      <th>item_id</th>\n",
       "      <th>item_price</th>\n",
       "      <th>user_city</th>\n",
       "    </tr>\n",
       "  </thead>\n",
       "  <tbody>\n",
       "    <tr>\n",
       "      <th>0</th>\n",
       "      <td>4081</td>\n",
       "      <td>71900</td>\n",
       "      <td>Not always McCrap</td>\n",
       "      <td>McDonald's</td>\n",
       "      <td>4.0</td>\n",
       "      <td>3.0</td>\n",
       "      <td>M</td>\n",
       "      <td>Restaurants &amp; Gourmet</td>\n",
       "      <td>41</td>\n",
       "      <td>30.74</td>\n",
       "      <td>4</td>\n",
       "    </tr>\n",
       "    <tr>\n",
       "      <th>1</th>\n",
       "      <td>4081</td>\n",
       "      <td>72000</td>\n",
       "      <td>I dropped the chalupa even before he told me to</td>\n",
       "      <td>Taco Bell</td>\n",
       "      <td>1.0</td>\n",
       "      <td>4.0</td>\n",
       "      <td>M</td>\n",
       "      <td>Restaurants &amp; Gourmet</td>\n",
       "      <td>74</td>\n",
       "      <td>108.30</td>\n",
       "      <td>4</td>\n",
       "    </tr>\n",
       "    <tr>\n",
       "      <th>2</th>\n",
       "      <td>4081</td>\n",
       "      <td>72000</td>\n",
       "      <td>The Wonderful World of Wendy</td>\n",
       "      <td>Wendy's</td>\n",
       "      <td>5.0</td>\n",
       "      <td>4.0</td>\n",
       "      <td>M</td>\n",
       "      <td>Restaurants &amp; Gourmet</td>\n",
       "      <td>84</td>\n",
       "      <td>69.00</td>\n",
       "      <td>4</td>\n",
       "    </tr>\n",
       "    <tr>\n",
       "      <th>3</th>\n",
       "      <td>4081</td>\n",
       "      <td>100399</td>\n",
       "      <td>They actually did it</td>\n",
       "      <td>South Park: Bigger, Longer &amp; Uncut</td>\n",
       "      <td>5.0</td>\n",
       "      <td>3.0</td>\n",
       "      <td>M</td>\n",
       "      <td>Movies</td>\n",
       "      <td>68</td>\n",
       "      <td>143.11</td>\n",
       "      <td>4</td>\n",
       "    </tr>\n",
       "    <tr>\n",
       "      <th>4</th>\n",
       "      <td>4081</td>\n",
       "      <td>100399</td>\n",
       "      <td>Hey! Gimme some pie!</td>\n",
       "      <td>American Pie</td>\n",
       "      <td>3.0</td>\n",
       "      <td>3.0</td>\n",
       "      <td>M</td>\n",
       "      <td>Movies</td>\n",
       "      <td>6</td>\n",
       "      <td>117.89</td>\n",
       "      <td>4</td>\n",
       "    </tr>\n",
       "    <tr>\n",
       "      <th>5</th>\n",
       "      <td>4081</td>\n",
       "      <td>100399</td>\n",
       "      <td>Good for sci-fi</td>\n",
       "      <td>Matrix</td>\n",
       "      <td>3.0</td>\n",
       "      <td>3.0</td>\n",
       "      <td>M</td>\n",
       "      <td>Movies</td>\n",
       "      <td>40</td>\n",
       "      <td>24.51</td>\n",
       "      <td>4</td>\n",
       "    </tr>\n",
       "    <tr>\n",
       "      <th>6</th>\n",
       "      <td>4081</td>\n",
       "      <td>100399</td>\n",
       "      <td>Scary? you bet!</td>\n",
       "      <td>Blair Witch Project</td>\n",
       "      <td>4.0</td>\n",
       "      <td>3.0</td>\n",
       "      <td>M</td>\n",
       "      <td>Movies</td>\n",
       "      <td>12</td>\n",
       "      <td>44.00</td>\n",
       "      <td>4</td>\n",
       "    </tr>\n",
       "    <tr>\n",
       "      <th>7</th>\n",
       "      <td>4081</td>\n",
       "      <td>101899</td>\n",
       "      <td>Fox - the 4th basic channel</td>\n",
       "      <td>FOX</td>\n",
       "      <td>4.0</td>\n",
       "      <td>4.0</td>\n",
       "      <td>M</td>\n",
       "      <td>Media</td>\n",
       "      <td>25</td>\n",
       "      <td>80.00</td>\n",
       "      <td>4</td>\n",
       "    </tr>\n",
       "    <tr>\n",
       "      <th>8</th>\n",
       "      <td>4081</td>\n",
       "      <td>112099</td>\n",
       "      <td>Amen!</td>\n",
       "      <td>Dogma</td>\n",
       "      <td>4.0</td>\n",
       "      <td>3.0</td>\n",
       "      <td>M</td>\n",
       "      <td>Movies</td>\n",
       "      <td>22</td>\n",
       "      <td>87.59</td>\n",
       "      <td>4</td>\n",
       "    </tr>\n",
       "    <tr>\n",
       "      <th>9</th>\n",
       "      <td>4081</td>\n",
       "      <td>122899</td>\n",
       "      <td>mama mia!</td>\n",
       "      <td>Olive Garden</td>\n",
       "      <td>4.0</td>\n",
       "      <td>3.0</td>\n",
       "      <td>M</td>\n",
       "      <td>Restaurants &amp; Gourmet</td>\n",
       "      <td>49</td>\n",
       "      <td>32.00</td>\n",
       "      <td>4</td>\n",
       "    </tr>\n",
       "  </tbody>\n",
       "</table>\n",
       "</div>"
      ],
      "text/plain": [
       "   userId  timestamp                                           review  \\\n",
       "0    4081      71900                                Not always McCrap   \n",
       "1    4081      72000  I dropped the chalupa even before he told me to   \n",
       "2    4081      72000                     The Wonderful World of Wendy   \n",
       "3    4081     100399                             They actually did it   \n",
       "4    4081     100399                             Hey! Gimme some pie!   \n",
       "5    4081     100399                                  Good for sci-fi   \n",
       "6    4081     100399                                  Scary? you bet!   \n",
       "7    4081     101899                      Fox - the 4th basic channel   \n",
       "8    4081     112099                                            Amen!   \n",
       "9    4081     122899                                        mama mia!   \n",
       "\n",
       "                                 item  rating  helpfulness gender  \\\n",
       "0                          McDonald's     4.0          3.0      M   \n",
       "1                           Taco Bell     1.0          4.0      M   \n",
       "2                             Wendy's     5.0          4.0      M   \n",
       "3  South Park: Bigger, Longer & Uncut     5.0          3.0      M   \n",
       "4                        American Pie     3.0          3.0      M   \n",
       "5                              Matrix     3.0          3.0      M   \n",
       "6                 Blair Witch Project     4.0          3.0      M   \n",
       "7                                 FOX     4.0          4.0      M   \n",
       "8                               Dogma     4.0          3.0      M   \n",
       "9                        Olive Garden     4.0          3.0      M   \n",
       "\n",
       "                category  item_id  item_price  user_city  \n",
       "0  Restaurants & Gourmet       41       30.74          4  \n",
       "1  Restaurants & Gourmet       74      108.30          4  \n",
       "2  Restaurants & Gourmet       84       69.00          4  \n",
       "3                 Movies       68      143.11          4  \n",
       "4                 Movies        6      117.89          4  \n",
       "5                 Movies       40       24.51          4  \n",
       "6                 Movies       12       44.00          4  \n",
       "7                  Media       25       80.00          4  \n",
       "8                 Movies       22       87.59          4  \n",
       "9  Restaurants & Gourmet       49       32.00          4  "
      ]
     },
     "execution_count": 3,
     "metadata": {},
     "output_type": "execute_result"
    }
   ],
   "source": [
    "ecommerce_df.head(10) # Display the first 10 rows of the dataset"
   ]
  },
  {
   "cell_type": "code",
   "execution_count": 4,
   "id": "3aa4eb9d",
   "metadata": {},
   "outputs": [
    {
     "name": "stdout",
     "output_type": "stream",
     "text": [
      "<class 'pandas.core.frame.DataFrame'>\n",
      "RangeIndex: 2685 entries, 0 to 2684\n",
      "Data columns (total 11 columns):\n",
      " #   Column       Non-Null Count  Dtype  \n",
      "---  ------       --------------  -----  \n",
      " 0   userId       2685 non-null   int64  \n",
      " 1   timestamp    2685 non-null   int64  \n",
      " 2   review       2685 non-null   object \n",
      " 3   item         2685 non-null   object \n",
      " 4   rating       2685 non-null   float64\n",
      " 5   helpfulness  2685 non-null   float64\n",
      " 6   gender       2685 non-null   object \n",
      " 7   category     2685 non-null   object \n",
      " 8   item_id      2685 non-null   int64  \n",
      " 9   item_price   2685 non-null   float64\n",
      " 10  user_city    2685 non-null   int64  \n",
      "dtypes: float64(3), int64(4), object(4)\n",
      "memory usage: 230.9+ KB\n"
     ]
    }
   ],
   "source": [
    "ecommerce_df.info() # Display information about the dataset, including column names and data types"
   ]
  },
  {
   "cell_type": "code",
   "execution_count": 5,
   "id": "2b15923e",
   "metadata": {},
   "outputs": [],
   "source": [
    "from sklearn.preprocessing import OrdinalEncoder\n",
    "encoder = OrdinalEncoder()\n",
    "categorical_features = ['gender', 'category', 'review']\n",
    "ecommerce_df[categorical_features] = encoder.fit_transform(ecommerce_df[categorical_features])"
   ]
  },
  {
   "cell_type": "code",
   "execution_count": 6,
   "id": "223eb8d1",
   "metadata": {},
   "outputs": [
    {
     "name": "stdout",
     "output_type": "stream",
     "text": [
      "             helpfulness    gender  category    review    rating\n",
      "helpfulness     1.000000  0.075947 -0.013408 -0.028259 -0.007523\n",
      "gender          0.075947  1.000000  0.022549 -0.037884 -0.034337\n",
      "category       -0.013408  0.022549  1.000000  0.001970 -0.163158\n",
      "review         -0.028259 -0.037884  0.001970  1.000000 -0.036118\n",
      "rating         -0.007523 -0.034337 -0.163158 -0.036118  1.000000\n"
     ]
    }
   ],
   "source": [
    "correlations = ecommerce_df[['helpfulness', 'gender', 'category', 'review', 'rating']].corr()\n",
    "print(correlations) #Finding out all the corrleated features regarding rating"
   ]
  },
  {
   "cell_type": "markdown",
   "id": "35ef9e61",
   "metadata": {},
   "source": [
    "# Explanation and Analysis on the correlations:\n",
    "\n",
    "Correlation is a statistical measure that is used to quantify the relationship between two variables. It helps us in understanding how changes in one variable will help us in determining the changes in other variables.\n",
    "\n",
    "1. The correlation coefficient between **helpfulness and rating** is -0.007523, which is close to 0. This indicates a very weak or no linear relationship between these two variables. It suggests that there is little to no impact of the helpfulness of a review on the rating assigned to it.\n",
    "\n",
    "2. The correlation between **gender and rating** is -0.034337, which is also close to 0. This suggests a very weak or non-linear relationship between gender and rating. It indicates that the gender of the person giving review has a negligible influence on the rating given to a product.\n",
    "\n",
    "3. The correlation between **category and rating** is -0.163158, which is closer to -1 than the previous correlations. This indicates a moderate negative correlation between category and rating. It suggests that the category of the product being reviewed has some impact on the assigned rating. It also means that the category and rating share an inverse relationship, i.e., if the value of one variable increases the other has to decrease.\n",
    "\n",
    "4. The correlation between **review and rating** is -0.036118, which is more than the correlation coefficient between gender and rating. It suggests that the specific words or phrases used in the review has a some amount of influence on the rating given to a product. "
   ]
  },
  {
   "cell_type": "markdown",
   "id": "773698c7",
   "metadata": {},
   "source": [
    "## Analysis on the correlations:\n",
    "\n",
    "In order to figure out which are the most and least correlated features, we try to compare the values on a scale from -1 to 1. So, if the value of correlation is closer to -1 or 1 it is the most correlated values, Specifically speaking, values close to -1 indicate a strong negative correlation and values close to +1 indicate a strong positive correlation. On the contrary, if a value is closer to 0 then we can arrive to the conclusion that it is the least correlated value. And value 0 simply implies no correlation.\n",
    "\n",
    "From the values generated above, here is my conclusion:\n",
    "\n",
    "1. Category and review are the most correlated features. They will have a greater influence on the prediction.\n",
    "2. Helpfulness and gender are the least correlated features. They won't have any significant influence on the accuracy of the prediction.\n"
   ]
  },
  {
   "cell_type": "markdown",
   "id": "8000e0c0",
   "metadata": {},
   "source": [
    "### Understanding how the correlation will affect the final prediction results.\n",
    "\n",
    "1. Weak negative correlation between helpfulness and rating suggests little to no impact of the helpfulness of a review on the rating assigned to it. Including this feature in the regression model may not have an impact in the prediction accuracy for rating.\n",
    "\n",
    "2. Weak correlation between gender and rating implies that the gender of the reviewer may not have a significant impact on the rating prediction. Including this feature in the model may not significantly improve the prediction results.\n",
    "\n",
    "3. Moderate negative correlation between category and rating indicates that the category of the product being reviewed may have a notable effect on the predicted rating. Moreover, Including this feature in the model can enhance the prediction accuracy, especially if we have distinct rating patterns among a differrent product categories.\n",
    "\n",
    "4. Moderate correlation between review and rating suggests that the specific words or phrases used in the review will have a reasonable influence on the rating prediction. Including this feature in the model may improve the prediction results.\n",
    "\n",
    "Overall, considering the correlations, it seems that review and product category are the most informative features for predicting the rating. Gender and helpfulness itself may have less impact on the final rating prediction. \n",
    "\n",
    "However, it is important to note that correlation does not imply causation, and there may be other factors influencing the prediction results that are not captured by these correlations."
   ]
  },
  {
   "cell_type": "markdown",
   "id": "4myP5igslA_Y",
   "metadata": {
    "id": "4myP5igslA_Y"
   },
   "source": [
    "### Split Training and Testing Data\n",
    "* Machine learning models are trained to help make predictions for the future. Normally, we need to randomly split the dataset into training and testing sets, where we use the training set to train the model, and then leverage the well-trained model to make predictions on the testing set.\n",
    "* To further investigate whether the size of the training/testing data affects the model performance, please random split the data into training and testing sets with different sizes:\n",
    "    * Case 1: training data containing 10% of the entire data;\n",
    "    * Case 2: training data containing 90% of the entire data.\n",
    "* Print the shape of training and testing sets in the two cases."
   ]
  },
  {
   "cell_type": "code",
   "execution_count": 7,
   "id": "JIDMig9blA_Y",
   "metadata": {
    "id": "JIDMig9blA_Y"
   },
   "outputs": [
    {
     "name": "stdout",
     "output_type": "stream",
     "text": [
      "Case 1:\n",
      "Shape of training set: (268, 4)\n",
      "Shape of the test set: (2417, 4)\n"
     ]
    }
   ],
   "source": [
    "from sklearn.model_selection import train_test_split\n",
    "\n",
    "# Assuming that X contains the features and y contains the target variable i.e., rating\n",
    "X = ecommerce_df[['helpfulness', 'gender', 'category', 'review']]\n",
    "y = ecommerce_df['rating']\n",
    "\n",
    "# Case 1: Training data containing 10% of the entire data\n",
    "#test size will be 0.9\n",
    "X_train_1, X_test_1, y_train_1, y_test_1 = train_test_split(X, y, test_size=0.9, random_state=142)\n",
    "print(\"Case 1:\")\n",
    "print(\"Shape of training set:\",X_train_1.shape)\n",
    "print(\"Shape of the test set:\",X_test_1.shape)"
   ]
  },
  {
   "cell_type": "code",
   "execution_count": 8,
   "id": "1ccc968f",
   "metadata": {},
   "outputs": [
    {
     "name": "stdout",
     "output_type": "stream",
     "text": [
      "Case 2:\n",
      "Shape of the training set: (2416, 4)\n",
      "Shape of the test set: (269, 4)\n"
     ]
    }
   ],
   "source": [
    "# Assuming X contains the features and y contains the target variable i.e., rating\n",
    "X = ecommerce_df[['helpfulness', 'gender', 'category', 'review']]\n",
    "y = ecommerce_df['rating']\n",
    "\n",
    "# Case 2: Training data containing 90% of the entire data\n",
    "X_train_2, X_test_2, y_train_2, y_test_2 = train_test_split(X, y, test_size=0.1, random_state=142)\n",
    "\n",
    "print(\"Case 2:\")\n",
    "print(\"Shape of the training set:\",X_train_2.shape)\n",
    "print(\"Shape of the test set:\",X_test_2.shape)"
   ]
  },
  {
   "cell_type": "markdown",
   "id": "DjSsgT0BlA_Y",
   "metadata": {
    "id": "DjSsgT0BlA_Y"
   },
   "source": [
    "### Train Linear Regression Models with Feature Selection under Cases 1 & 2\n",
    "* When training a machine learning model for prediction, we may need to select the most important/correlated input features for more accurate results.\n",
    "* To investigate whether feature selection affects the model performance, please select two most correlated features and two least correlated features regarding rating, respectively.\n",
    "* Train four linear regression models by following the conditions:\n",
    "    - (model-a) using the training/testing data in case 1 with two most correlated input features\n",
    "    - (model-b) using the training/testing data in case 1 with two least correlated input features\n",
    "    - (model-c) using the training/testing data in case 2 with two most correlated input features\n",
    "    - (model-d) using the training/testing data in case 2 with two least correlated input features\n",
    "* By doing this, we can verify the impacts of the size of traing/testing data on the model performance via comparing model-a and model-c (or model-b and model-d); meanwhile the impacts of feature selection can be validated via comparing model-a and model-b (or model-c and model-d).    "
   ]
  },
  {
   "cell_type": "code",
   "execution_count": 9,
   "id": "DASzPUATlA_Z",
   "metadata": {
    "id": "DASzPUATlA_Z"
   },
   "outputs": [
    {
     "data": {
      "text/html": [
       "<style>#sk-container-id-1 {color: black;}#sk-container-id-1 pre{padding: 0;}#sk-container-id-1 div.sk-toggleable {background-color: white;}#sk-container-id-1 label.sk-toggleable__label {cursor: pointer;display: block;width: 100%;margin-bottom: 0;padding: 0.3em;box-sizing: border-box;text-align: center;}#sk-container-id-1 label.sk-toggleable__label-arrow:before {content: \"▸\";float: left;margin-right: 0.25em;color: #696969;}#sk-container-id-1 label.sk-toggleable__label-arrow:hover:before {color: black;}#sk-container-id-1 div.sk-estimator:hover label.sk-toggleable__label-arrow:before {color: black;}#sk-container-id-1 div.sk-toggleable__content {max-height: 0;max-width: 0;overflow: hidden;text-align: left;background-color: #f0f8ff;}#sk-container-id-1 div.sk-toggleable__content pre {margin: 0.2em;color: black;border-radius: 0.25em;background-color: #f0f8ff;}#sk-container-id-1 input.sk-toggleable__control:checked~div.sk-toggleable__content {max-height: 200px;max-width: 100%;overflow: auto;}#sk-container-id-1 input.sk-toggleable__control:checked~label.sk-toggleable__label-arrow:before {content: \"▾\";}#sk-container-id-1 div.sk-estimator input.sk-toggleable__control:checked~label.sk-toggleable__label {background-color: #d4ebff;}#sk-container-id-1 div.sk-label input.sk-toggleable__control:checked~label.sk-toggleable__label {background-color: #d4ebff;}#sk-container-id-1 input.sk-hidden--visually {border: 0;clip: rect(1px 1px 1px 1px);clip: rect(1px, 1px, 1px, 1px);height: 1px;margin: -1px;overflow: hidden;padding: 0;position: absolute;width: 1px;}#sk-container-id-1 div.sk-estimator {font-family: monospace;background-color: #f0f8ff;border: 1px dotted black;border-radius: 0.25em;box-sizing: border-box;margin-bottom: 0.5em;}#sk-container-id-1 div.sk-estimator:hover {background-color: #d4ebff;}#sk-container-id-1 div.sk-parallel-item::after {content: \"\";width: 100%;border-bottom: 1px solid gray;flex-grow: 1;}#sk-container-id-1 div.sk-label:hover label.sk-toggleable__label {background-color: #d4ebff;}#sk-container-id-1 div.sk-serial::before {content: \"\";position: absolute;border-left: 1px solid gray;box-sizing: border-box;top: 0;bottom: 0;left: 50%;z-index: 0;}#sk-container-id-1 div.sk-serial {display: flex;flex-direction: column;align-items: center;background-color: white;padding-right: 0.2em;padding-left: 0.2em;position: relative;}#sk-container-id-1 div.sk-item {position: relative;z-index: 1;}#sk-container-id-1 div.sk-parallel {display: flex;align-items: stretch;justify-content: center;background-color: white;position: relative;}#sk-container-id-1 div.sk-item::before, #sk-container-id-1 div.sk-parallel-item::before {content: \"\";position: absolute;border-left: 1px solid gray;box-sizing: border-box;top: 0;bottom: 0;left: 50%;z-index: -1;}#sk-container-id-1 div.sk-parallel-item {display: flex;flex-direction: column;z-index: 1;position: relative;background-color: white;}#sk-container-id-1 div.sk-parallel-item:first-child::after {align-self: flex-end;width: 50%;}#sk-container-id-1 div.sk-parallel-item:last-child::after {align-self: flex-start;width: 50%;}#sk-container-id-1 div.sk-parallel-item:only-child::after {width: 0;}#sk-container-id-1 div.sk-dashed-wrapped {border: 1px dashed gray;margin: 0 0.4em 0.5em 0.4em;box-sizing: border-box;padding-bottom: 0.4em;background-color: white;}#sk-container-id-1 div.sk-label label {font-family: monospace;font-weight: bold;display: inline-block;line-height: 1.2em;}#sk-container-id-1 div.sk-label-container {text-align: center;}#sk-container-id-1 div.sk-container {/* jupyter's `normalize.less` sets `[hidden] { display: none; }` but bootstrap.min.css set `[hidden] { display: none !important; }` so we also need the `!important` here to be able to override the default hidden behavior on the sphinx rendered scikit-learn.org. See: https://github.com/scikit-learn/scikit-learn/issues/21755 */display: inline-block !important;position: relative;}#sk-container-id-1 div.sk-text-repr-fallback {display: none;}</style><div id=\"sk-container-id-1\" class=\"sk-top-container\"><div class=\"sk-text-repr-fallback\"><pre>LinearRegression()</pre><b>In a Jupyter environment, please rerun this cell to show the HTML representation or trust the notebook. <br />On GitHub, the HTML representation is unable to render, please try loading this page with nbviewer.org.</b></div><div class=\"sk-container\" hidden><div class=\"sk-item\"><div class=\"sk-estimator sk-toggleable\"><input class=\"sk-toggleable__control sk-hidden--visually\" id=\"sk-estimator-id-1\" type=\"checkbox\" checked><label for=\"sk-estimator-id-1\" class=\"sk-toggleable__label sk-toggleable__label-arrow\">LinearRegression</label><div class=\"sk-toggleable__content\"><pre>LinearRegression()</pre></div></div></div></div></div>"
      ],
      "text/plain": [
       "LinearRegression()"
      ]
     },
     "execution_count": 9,
     "metadata": {},
     "output_type": "execute_result"
    }
   ],
   "source": [
    "#in this section we are supposed to build four models\n",
    "\n",
    "from sklearn.linear_model import LinearRegression\n",
    "from sklearn.metrics import mean_squared_error\n",
    "\n",
    "model_a = LinearRegression()\n",
    "model_a.fit(X_train_1[['category', 'review']], y_train_1) #model-a using two most correlated input features.\n",
    "\n",
    "model_b = LinearRegression()\n",
    "model_b.fit(X_train_1[['helpfulness', 'gender']], y_train_1) #model-b using two least correlated input features.\n",
    "\n",
    "model_c = LinearRegression()\n",
    "model_c.fit(X_train_2[['category', 'review']], y_train_2) #model-c using two most correlated input features.\n",
    "\n",
    "model_d = LinearRegression()\n",
    "model_d.fit(X_train_2[['helpfulness', 'gender']], y_train_2) #model-d using two least correlated input features."
   ]
  },
  {
   "cell_type": "markdown",
   "id": "KATSn7hYlA_Z",
   "metadata": {
    "id": "KATSn7hYlA_Z"
   },
   "source": [
    "### Evaluate Models\n",
    "* Evaluate the performance of the four models with two metrics, including MSE and Root MSE\n",
    "* Print the results of the four models regarding the two metrics"
   ]
  },
  {
   "cell_type": "code",
   "execution_count": 10,
   "id": "4fU8GPS9lA_Z",
   "metadata": {
    "id": "4fU8GPS9lA_Z"
   },
   "outputs": [
    {
     "name": "stdout",
     "output_type": "stream",
     "text": [
      "Model A with 10% training data, most correlated features:\n",
      "MSE: 1.7690740179517055\n",
      "RMSE: 1.3300654186737229\n"
     ]
    }
   ],
   "source": [
    "                                    #Performance of Model A\n",
    "y_pred_a = model_a.predict(X_test_1[['category', 'review']])\n",
    "mse_a = mean_squared_error(y_test_1, y_pred_a)\n",
    "rmse_a = mse_a ** 0.5\n",
    "print(\"Model A with 10% training data, most correlated features:\")\n",
    "print(\"MSE:\", mse_a)\n",
    "print(\"RMSE:\", rmse_a)"
   ]
  },
  {
   "cell_type": "code",
   "execution_count": 11,
   "id": "b571c879",
   "metadata": {},
   "outputs": [
    {
     "name": "stdout",
     "output_type": "stream",
     "text": [
      "Model B with 10% training data, least correlated features:\n",
      "MSE: 1.8412549895856636\n",
      "RMSE: 1.356928513071217\n"
     ]
    }
   ],
   "source": [
    "                                    #Performance of Model B\n",
    "y_pred_b = model_b.predict(X_test_1[['helpfulness', 'gender']])\n",
    "mse_b = mean_squared_error(y_test_1, y_pred_b)\n",
    "rmse_b = mse_b ** 0.5\n",
    "print(\"Model B with 10% training data, least correlated features:\")\n",
    "print(\"MSE:\", mse_b)\n",
    "print(\"RMSE:\", rmse_b)"
   ]
  },
  {
   "cell_type": "code",
   "execution_count": 12,
   "id": "988bca95",
   "metadata": {},
   "outputs": [
    {
     "name": "stdout",
     "output_type": "stream",
     "text": [
      "Model C with 90% training data, most correlated features:\n",
      "MSE: 1.7588975359805048\n",
      "RMSE: 1.3262343442923294\n"
     ]
    }
   ],
   "source": [
    "                                    #Performance of Model C\n",
    "y_pred_c = model_c.predict(X_test_2[['category', 'review']])\n",
    "mse_c = mean_squared_error(y_test_2, y_pred_c)\n",
    "rmse_c = mse_c ** 0.5\n",
    "print(\"Model C with 90% training data, most correlated features:\")\n",
    "print(\"MSE:\", mse_c)\n",
    "print(\"RMSE:\", rmse_c)"
   ]
  },
  {
   "cell_type": "code",
   "execution_count": 13,
   "id": "2a6bb4e1",
   "metadata": {},
   "outputs": [
    {
     "name": "stdout",
     "output_type": "stream",
     "text": [
      "Model D with 90% training data, least correlated features:\n",
      "MSE: 1.8109460127732369\n",
      "RMSE: 1.3457139416581954\n"
     ]
    }
   ],
   "source": [
    "                                    #Performance of Model D\n",
    "y_pred_d = model_d.predict(X_test_2[['helpfulness', 'gender']])\n",
    "mse_d = mean_squared_error(y_test_2, y_pred_d)\n",
    "rmse_d = mse_d ** 0.5\n",
    "print(\"Model D with 90% training data, least correlated features:\")\n",
    "print(\"MSE:\", mse_d)\n",
    "print(\"RMSE:\", rmse_d)"
   ]
  },
  {
   "cell_type": "markdown",
   "id": "Y9jx-eY6lA_a",
   "metadata": {
    "id": "Y9jx-eY6lA_a"
   },
   "source": [
    "### Visualize, Compare and Analyze the Results\n",
    "* Visulize the results, and perform ___insightful analysis___ on the obtained results. For better visualization, you may need to carefully set the scale for the y-axis.\n",
    "* Normally, the model trained with most correlated features and more training data will get better results. Do you obtain the similar observations? If not, please ___explain the possible reasons___."
   ]
  },
  {
   "cell_type": "code",
   "execution_count": 14,
   "id": "3TNAIGDilA_a",
   "metadata": {
    "id": "3TNAIGDilA_a",
    "scrolled": true
   },
   "outputs": [
    {
     "data": {
      "image/png": "[encoded data removed]",
      "text/plain": [
       "<Figure size 1200x800 with 2 Axes>"
      ]
     },
     "metadata": {},
     "output_type": "display_data"
    }
   ],
   "source": [
    "# Data for MSE and RMSE values rounded off to 3 dp.\n",
    "mse_values = [1.769, 1.841, 1.759, 1.811]\n",
    "rmse_values = [1.330, 1.357, 1.326, 1.346]\n",
    "model_names = ['Model A', 'Model B', 'Model C', 'Model D']\n",
    "\n",
    "data = {'Model': model_names, 'MSE': mse_values, 'RMSE': rmse_values}\n",
    "model_df = pd.DataFrame(data)\n",
    "\n",
    "# Set the style of the plot\n",
    "sns.set_style(\"darkgrid\")\n",
    "\n",
    "# Bar plots for MSE and RMSE\n",
    "plt.figure(figsize=(12, 8))\n",
    "plt.subplot(1, 2, 1)\n",
    "sns.barplot(x='Model', y='MSE', data=model_df)\n",
    "plt.title('MSE')\n",
    "plt.ylim(1.6, 1.9)\n",
    "\n",
    "plt.subplot(1, 2, 2)\n",
    "sns.barplot(x='Model', y='RMSE', data=model_df)\n",
    "plt.title('RMSE')\n",
    "plt.ylim(1.3, 1.4)\n",
    "\n",
    "# Show the plot\n",
    "plt.tight_layout()\n",
    "plt.show()"
   ]
  },
  {
   "cell_type": "markdown",
   "id": "e7b23ef3",
   "metadata": {},
   "source": [
    "From the provided information, we can deduce that the models trained with the most correlated features and more training data (Model A and Model C) have lower values of both Mean Squared Error (MSE) and Root Mean Squared Error (RMSE) compared to the models trained with the least correlated features and less training data (Model B and Model D). This is consistent with the expectation that models trained with more relevant features and more data tend to perform better.\n",
    "\n",
    "*******************************************************************************************************************************\n",
    "However, if this wasn't the case and Model A and Model C didn't perform better than Model B and Model D, then the possible reasons for these observations can include:\n",
    "\n",
    "1. **Overfitting**: Models A and C can have overfit the training data due to the complexity introduced by using the most correlated features and the larger training data size. Overfitting can lead to poor generalization on unseen data, resulting in higher MSE and RMSE values.\n",
    "\n",
    "2. **Relevance of the Feature**: The most correlated features used in Models A and C may not be the most informative or relevant features for the prediction task. Correlation does not necessarily imply causation, and using less correlated features that capture the underlying patterns in the data more effectively can lead to better performance.\n",
    "\n",
    "3. **Quality of Data**: The quality and representativeness of the training data can have a significant impact on model performance. If the larger training data used in Models C and D contains noise, outliers, or irrelevant instances, it can negatively affect the model's performance.\n",
    "\n",
    "It's crucial for a Data Analyst to carefully analyze and evaluate these factors to make informed decisions about feature selection, data preparation, and model training."
   ]
  }
 ],
 "metadata": {
  "colab": {
   "provenance": []
  },
  "kernelspec": {
   "display_name": "Python 3 (ipykernel)",
   "language": "python",
   "name": "python3"
  },
  "language_info": {
   "codemirror_mode": {
    "name": "ipython",
    "version": 3
   },
   "file_extension": ".py",
   "mimetype": "text/x-python",
   "name": "python",
   "nbconvert_exporter": "python",
   "pygments_lexer": "ipython3",
   "version": "3.11.4"
  }
 },
 "nbformat": 4,
 "nbformat_minor": 5
}
